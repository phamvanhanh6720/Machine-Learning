{
 "cells": [
  {
   "cell_type": "code",
   "execution_count": 3,
   "metadata": {
    "ExecuteTime": {
     "end_time": "2019-11-28T18:26:47.026162Z",
     "start_time": "2019-11-28T18:26:46.762679Z"
    }
   },
   "outputs": [
    {
     "name": "stdout",
     "output_type": "stream",
     "text": [
      "Running time of test 1: 0.07811379432678223\n",
      "Running time of test 2 0.04687333106994629\n",
      "Difference results: 9.67808243788816e-12\n"
     ]
    }
   ],
   "source": [
    "import numpy as np\n",
    "from time import time\n",
    "d, N = 1000, 10000\n",
    "\n",
    "np.random.seed(4)\n",
    "z = np.random.rand(d)\n",
    "X = np.random.rand(N, d)\n",
    "\n",
    "\n",
    "def dis_pp(z, x):\n",
    "    d = z - x.reshape(z.shape)\n",
    "    return np.sum(d * d)\n",
    "\n",
    "\n",
    "def dis_ps_naive(z, X):\n",
    "    N = X.shape[0]\n",
    "    res = np.zeros((1, N))\n",
    "    for i in range(N):\n",
    "        res[0][i] = dis_pp(z, X[i])\n",
    "    return res\n",
    "\n",
    "\n",
    "def dis_ps_fast(z, X):\n",
    "    X2 = np.sum(X * X, 1)\n",
    "    z2 = np.sum(z*z)\n",
    "    return X2 + z2 - 2 * X.dot(z)\n",
    "\n",
    "\n",
    "t1 = time()\n",
    "D1 = dis_ps_naive(z, X)\n",
    "print(\"Running time of test 1:\", time() - t1)\n",
    "t1 = time()\n",
    "D2 = dis_ps_fast(z, X)\n",
    "print(\"Running time of test 2\", time() - t1)\n",
    "print(\"Difference results:\", np.linalg.norm(D2 - D1))\n"
   ]
  },
  {
   "cell_type": "code",
   "execution_count": 2,
   "metadata": {
    "ExecuteTime": {
     "end_time": "2019-11-11T09:01:47.658052Z",
     "start_time": "2019-11-11T09:01:36.957896Z"
    }
   },
   "outputs": [
    {
     "name": "stdout",
     "output_type": "stream",
     "text": [
      "Running time of test 3: 10.387345552444458\n",
      "Running time of test 4: 0.2909712791442871\n",
      "Difference results: 1.0659028135774289e-10\n"
     ]
    }
   ],
   "source": [
    "M=100\n",
    "Z=np.random.rand(M,d)\n",
    "\n",
    "def dis_ss_naive(Z,X):\n",
    "    M=Z.shape[0]\n",
    "    N=X.shape[0]\n",
    "    res=np.zeros((M,N))\n",
    "    for i in range(M):\n",
    "        res[i]=dis_ps_naive(Z[i],X)\n",
    "    return res\n",
    "def dis_ss_fast(Z,X):\n",
    "    X2=np.sum(X**2,1)\n",
    "    Z2=np.sum(Z**2,1)\n",
    "    return Z2.reshape(-1,1)+X2.reshape(1,-1)-2*Z.dot(X.T)\n",
    "t1=time()\n",
    "D3=dis_ss_naive(Z,X)\n",
    "print(\"Running time of test 3:\",time()-t1)\n",
    "t1=time()\n",
    "D4=dis_ss_fast(Z,X)\n",
    "print(\"Running time of test 4:\",time()-t1)\n",
    "print(\"Difference results:\",np.linalg.norm(D4-D3))\n",
    "\n",
    "\n"
   ]
  },
  {
   "cell_type": "code",
   "execution_count": 12,
   "metadata": {
    "ExecuteTime": {
     "end_time": "2019-11-11T09:13:17.543503Z",
     "start_time": "2019-11-11T09:13:17.527513Z"
    }
   },
   "outputs": [
    {
     "name": "stdout",
     "output_type": "stream",
     "text": [
      "Labels: [0 1 2]\n",
      "Train size: 20 Test_size: 130\n"
     ]
    }
   ],
   "source": [
    "import numpy as np\n",
    "from sklearn import neighbors, datasets\n",
    "from sklearn.model_selection import train_test_split\n",
    "from sklearn.metrics import accuracy_score\n",
    "\n",
    "np.random.seed(3)\n",
    "iris=datasets.load_iris()\n",
    "iris_X=iris.data\n",
    "iris_y=iris.target\n",
    "print(\"Labels:\",np.unique(iris_y))\n",
    "\n",
    "X_train,X_test,y_train,y_test=train_test_split(iris_X,iris_y,test_size=130)\n",
    "print(\"Train size:\",X_train.shape[0],\"Test_size:\",X_test.shape[0])"
   ]
  },
  {
   "cell_type": "code",
   "execution_count": 14,
   "metadata": {
    "ExecuteTime": {
     "end_time": "2019-11-11T09:13:21.603693Z",
     "start_time": "2019-11-11T09:13:21.583813Z"
    }
   },
   "outputs": [
    {
     "name": "stdout",
     "output_type": "stream",
     "text": [
      "Accuracy of 1NN:92.31 %\n"
     ]
    }
   ],
   "source": [
    "model=neighbors.KNeighborsClassifier(n_neighbors=1,p=2)\n",
    "model.fit(X_train,y_train)\n",
    "y_pre=model.predict(X_test)\n",
    "print(\"Accuracy of 1NN:%.2f %%\"%(100*accuracy_score(y_test,y_pre)))\n"
   ]
  },
  {
   "cell_type": "code",
   "execution_count": 13,
   "metadata": {
    "ExecuteTime": {
     "end_time": "2019-11-11T09:13:19.133898Z",
     "start_time": "2019-11-11T09:13:19.110474Z"
    }
   },
   "outputs": [
    {
     "name": "stdout",
     "output_type": "stream",
     "text": [
      "Accuracy of 7NN: 87.69%\n"
     ]
    }
   ],
   "source": [
    "model=neighbors.KNeighborsClassifier(n_neighbors=7,p=2)\n",
    "model.fit(X_train,y_train)\n",
    "y_pre=model.predict(X_test)\n",
    "print(\"Accuracy of 7NN with major voting: %.2f%%\"%(100*accuracy_score(y_test,y_pre)))"
   ]
  },
  {
   "cell_type": "code",
   "execution_count": 16,
   "metadata": {
    "ExecuteTime": {
     "end_time": "2019-11-11T09:15:51.762984Z",
     "start_time": "2019-11-11T09:15:51.750524Z"
    }
   },
   "outputs": [
    {
     "name": "stdout",
     "output_type": "stream",
     "text": [
      "Accuracy of 7NN (1/distance weight): 89.23%\n"
     ]
    }
   ],
   "source": [
    "model=neighbors.KNeighborsClassifier(n_neighbors=7,p=2,weights=\"distance\")\n",
    "model.fit(X_train,y_train)\n",
    "y_pre=model.predict(X_test)\n",
    "print(\"Accuracy of 7NN (1/distance weight): %.2f%%\"%(100*accuracy_score(y_test,y_pre)))"
   ]
  },
  {
   "cell_type": "code",
   "execution_count": 17,
   "metadata": {
    "ExecuteTime": {
     "end_time": "2019-11-11T09:17:23.870832Z",
     "start_time": "2019-11-11T09:17:23.854238Z"
    }
   },
   "outputs": [
    {
     "name": "stdout",
     "output_type": "stream",
     "text": [
      "Accuracy of 7NN (customized weight): 90.77%\n"
     ]
    }
   ],
   "source": [
    "def myweight(distance):\n",
    "    sigma2=0.4\n",
    "    return np.exp(-distance/sigma2)\n",
    "model=neighbors.KNeighborsClassifier(n_neighbors=7,p=2,weights=myweight)\n",
    "model.fit(X_train,y_train)\n",
    "y_pre=model.predict(X_test)\n",
    "print(\"Accuracy of 7NN (customized weight): %.2f%%\"%(100*accuracy_score(y_test,y_pre)))\n"
   ]
  },
  {
   "cell_type": "code",
   "execution_count": null,
   "metadata": {},
   "outputs": [],
   "source": []
  }
 ],
 "metadata": {
  "kernelspec": {
   "display_name": "Python 3",
   "language": "python",
   "name": "python3"
  },
  "language_info": {
   "codemirror_mode": {
    "name": "ipython",
    "version": 3
   },
   "file_extension": ".py",
   "mimetype": "text/x-python",
   "name": "python",
   "nbconvert_exporter": "python",
   "pygments_lexer": "ipython3",
   "version": "3.7.4"
  },
  "toc": {
   "base_numbering": 1,
   "nav_menu": {},
   "number_sections": true,
   "sideBar": true,
   "skip_h1_title": false,
   "title_cell": "Table of Contents",
   "title_sidebar": "Contents",
   "toc_cell": false,
   "toc_position": {},
   "toc_section_display": true,
   "toc_window_display": false
  },
  "varInspector": {
   "cols": {
    "lenName": 16,
    "lenType": 16,
    "lenVar": 40
   },
   "kernels_config": {
    "python": {
     "delete_cmd_postfix": "",
     "delete_cmd_prefix": "del ",
     "library": "var_list.py",
     "varRefreshCmd": "print(var_dic_list())"
    },
    "r": {
     "delete_cmd_postfix": ") ",
     "delete_cmd_prefix": "rm(",
     "library": "var_list.r",
     "varRefreshCmd": "cat(var_dic_list()) "
    }
   },
   "types_to_exclude": [
    "module",
    "function",
    "builtin_function_or_method",
    "instance",
    "_Feature"
   ],
   "window_display": false
  }
 },
 "nbformat": 4,
 "nbformat_minor": 2
}
