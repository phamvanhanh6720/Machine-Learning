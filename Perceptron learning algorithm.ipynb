{
 "cells": [
  {
   "cell_type": "code",
   "execution_count": null,
   "metadata": {
    "ExecuteTime": {
     "end_time": "2020-01-21T17:37:28.565567Z",
     "start_time": "2020-01-21T17:37:28.553981Z"
    }
   },
   "outputs": [],
   "source": [
    "import numpy as np\n",
    "def predict(X,w):\n",
    "    return np.sign(X.dot(w))\n",
    "\n",
    "def perceptron(X,y,w_init):\n",
    "    w=w_init\n",
    "    \n",
    "    while True:\n",
    "        pred=predict(X,w)\n",
    "        mis_idxs=np.where(np.equal(pred,y)==False)[0]\n",
    "        numbers_mis=mis_idxs.shape[0]\n",
    "        if numbers_mis==0:\n",
    "            return w\n",
    "        else:\n",
    "            idx=np.random.choice(mis_idxs,1)[0]\n",
    "            w=w+y[idx]*X[idx]"
   ]
  },
  {
   "cell_type": "code",
   "execution_count": null,
   "metadata": {
    "ExecuteTime": {
     "end_time": "2020-01-21T17:37:30.210539Z",
     "start_time": "2020-01-21T17:37:30.194571Z"
    }
   },
   "outputs": [],
   "source": [
    "means=[[-1,0],[1,0]]\n",
    "cov=[[.3,.2],[.2,.3]]\n",
    "N=10\n",
    "X0=np.random.multivariate_normal(means[0],cov,N)\n",
    "X1=np.random.multivariate_normal(means[1],cov,N)\n",
    "\n",
    "X=np.concatenate((X0,X1),axis=0)\n",
    "y=np.concatenate((np.ones(N),-1*np.ones(N)))\n",
    "\n",
    "Xbar=np.concatenate((X,np.ones((2*N,1))),axis=1)\n",
    "w_init=np.random.randn(Xbar.shape[1])\n",
    "w=perceptron(Xbar,y,w_init)\n",
    "print(w)"
   ]
  },
  {
   "cell_type": "code",
   "execution_count": null,
   "metadata": {},
   "outputs": [],
   "source": []
  }
 ],
 "metadata": {
  "kernelspec": {
   "display_name": "Python 3",
   "language": "python",
   "name": "python3"
  },
  "language_info": {
   "codemirror_mode": {
    "name": "ipython",
    "version": 3
   },
   "file_extension": ".py",
   "mimetype": "text/x-python",
   "name": "python",
   "nbconvert_exporter": "python",
   "pygments_lexer": "ipython3",
   "version": "3.7.3"
  },
  "toc": {
   "base_numbering": 1,
   "nav_menu": {},
   "number_sections": true,
   "sideBar": true,
   "skip_h1_title": false,
   "title_cell": "Table of Contents",
   "title_sidebar": "Contents",
   "toc_cell": false,
   "toc_position": {},
   "toc_section_display": true,
   "toc_window_display": false
  },
  "varInspector": {
   "cols": {
    "lenName": 16,
    "lenType": 16,
    "lenVar": 40
   },
   "kernels_config": {
    "python": {
     "delete_cmd_postfix": "",
     "delete_cmd_prefix": "del ",
     "library": "var_list.py",
     "varRefreshCmd": "print(var_dic_list())"
    },
    "r": {
     "delete_cmd_postfix": ") ",
     "delete_cmd_prefix": "rm(",
     "library": "var_list.r",
     "varRefreshCmd": "cat(var_dic_list()) "
    }
   },
   "types_to_exclude": [
    "module",
    "function",
    "builtin_function_or_method",
    "instance",
    "_Feature"
   ],
   "window_display": false
  }
 },
 "nbformat": 4,
 "nbformat_minor": 2
}
