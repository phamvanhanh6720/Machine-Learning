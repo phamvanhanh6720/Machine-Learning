{
 "cells": [
  {
   "cell_type": "code",
   "execution_count": 41,
   "metadata": {},
   "outputs": [],
   "source": [
    "import numpy as np\n",
    "import matplotlib.pyplot as plt\n",
    "def loss(X,y,W):\n",
    "    A=softmax_stable(X.dot(W))\n",
    "    id0=range(X.shape[0])\n",
    "    return -(np.log(A[id0,y]).sum())/X.shape[0]\n",
    "\n",
    "def softmax_stable(Z):\n",
    "    e_Z=np.exp(Z-np.max(Z,axis=1,keepdims=True))\n",
    "    A=e_Z/e_Z.sum(axis=1,keepdims=True)\n",
    "    return A\n",
    "\n",
    "def softmax_grad(X,y,W):\n",
    "    \"\"\"\n",
    "    W: 2d numpy array of shape (d,C)\n",
    "    each column correspoding to one output node\n",
    "    X: shape (N,d)\n",
    "    each row is data point\n",
    "    y: shape(N,)\n",
    "    \n",
    "    \"\"\"\n",
    "    A=softmax_stable(X.dot(W)) #shape of (N,C)\n",
    "    id0=range(X.shape[0])\n",
    "    A[id0,y]-=1\n",
    "    return X.T.dot(A)/X.shape[0] #shape of (d,C)\n",
    "\n",
    "def softmax_fit(X,y,W,lr=0.01,nepoches=100,tol=1e-5,batch_size=10):\n",
    "    W_old=W.copy()\n",
    "    ep=0\n",
    "    loss_hist=[loss(X,y,W_old)]\n",
    "    N=X.shape[0]\n",
    "    nbatches=int(np.ceil(float(N)/batch_size))\n",
    "    while ep<=nepoches:\n",
    "        W_old=W.copy()\n",
    "        mix_ids=np.random.permutation(N)\n",
    "        ep+=1\n",
    "        for i in range(nbatches):\n",
    "            batch_ids=mix_ids[batch_size*i:min(batch_size*(i+1),N)]\n",
    "            X_batch=X[batch_ids]\n",
    "            y_batch=y[batch_ids]\n",
    "            \n",
    "            W-=lr*softmax_grad(X_batch,y_batch,W)\n",
    "            \n",
    "        loss_hist.append(loss(X,y,W))\n",
    "        if np.linalg.norm(W-W_old)/W.size<tol:\n",
    "            break\n",
    "        \n",
    "    return (W,loss_hist)\n",
    "\n",
    "def pred(X,W):\n",
    "    return np.argmax(X.dot(W),axis=1)\n"
   ]
  },
  {
   "cell_type": "code",
   "execution_count": 42,
   "metadata": {},
   "outputs": [],
   "source": [
    "import numpy as np\n",
    "def load_mnist(prefix,folder):\n",
    "    intType=np.dtype('int32').newbyteorder('>')\n",
    "    nMetaDataBytes=4*intType.itemsize\n",
    "    data=np.fromfile(folder+\"/\"+prefix+\"-images-idx3-ubyte\",dtype='ubyte')\n",
    "    \n",
    "    magicBytes,nImages,width,height=np.frombuffer(data[:nMetaDataBytes].tobytes(),intType)\n",
    "    data=data[nMetaDataBytes:].astype(dtype='float32').reshape(nImages,width*height)\n",
    "    \n",
    "    labels=np.fromfile(folder+\"/\"+prefix+\"-labels-idx1-ubyte\",dtype='ubyte')[2*intType.itemsize:]\n",
    "    \n",
    "    return data,labels\n",
    "X_train,y_train=load_mnist(\"train\",\"/datasets/mnist/\")\n",
    "X_test,y_test=load_mnist(\"t10k\",\"/datasets/mnist/\")\n",
    "\n",
    "\n",
    "\n",
    "Xbar_train=np.concatenate((np.ones((X_train.shape[0],1)),X_train),axis=1)\n",
    "Xbar_test=np.concatenate((np.ones((X_test.shape[0],1)),X_test),axis=1)"
   ]
  },
  {
   "cell_type": "code",
   "execution_count": 43,
   "metadata": {},
   "outputs": [
    {
     "name": "stderr",
     "output_type": "stream",
     "text": [
      "/usr/local/lib/python3.6/dist-packages/ipykernel_launcher.py:6: RuntimeWarning: divide by zero encountered in log\n",
      "  \n"
     ]
    }
   ],
   "source": [
    "W_init=np.random.rand(Xbar_train.shape[1],10)\n",
    "(W,loss_hist)=softmax_fit(Xbar_train,y_train,W_init)\n",
    "y_pred=pred(Xbar_test,W)"
   ]
  },
  {
   "cell_type": "code",
   "execution_count": 48,
   "metadata": {},
   "outputs": [
    {
     "name": "stdout",
     "output_type": "stream",
     "text": [
      "Accuracy of model 92.43%\n"
     ]
    }
   ],
   "source": [
    "accuracy=(np.equal(y_pred,y_test).sum()/y_test.shape[0])\n",
    "print(\"Accuracy of model {}%\".format(accuracy*100))"
   ]
  },
  {
   "cell_type": "code",
   "execution_count": 39,
   "metadata": {},
   "outputs": [
    {
     "name": "stdout",
     "output_type": "stream",
     "text": [
      "[[0. 0. 0. 0. 0. 0. 0. 1. 0. 0.]\n",
      " [0. 0. 0. 0. 0. 0. 0. 0. 0. 1.]\n",
      " [0. 0. 0. 0. 0. 1. 0. 0. 0. 0.]\n",
      " [0. 0. 0. 0. 0. 0. 0. 0. 1. 0.]\n",
      " [0. 0. 0. 1. 0. 0. 0. 0. 0. 0.]]\n"
     ]
    }
   ],
   "source": [
    "A=softmax_stable(Xbar_train.dot(W))\n",
    "print()"
   ]
  },
  {
   "cell_type": "markdown",
   "metadata": {},
   "source": [
    "# Dùng thư viện sklearn\n"
   ]
  },
  {
   "cell_type": "code",
   "execution_count": 47,
   "metadata": {},
   "outputs": [
    {
     "name": "stdout",
     "output_type": "stream",
     "text": [
      "Accuracy of model 92.43%\n"
     ]
    },
    {
     "name": "stderr",
     "output_type": "stream",
     "text": [
      "/usr/local/lib/python3.6/dist-packages/sklearn/linear_model/_logistic.py:939: ConvergenceWarning: lbfgs failed to converge (status=1):\n",
      "STOP: TOTAL NO. of ITERATIONS REACHED LIMIT.\n",
      "\n",
      "Increase the number of iterations (max_iter) or scale the data as shown in:\n",
      "    https://scikit-learn.org/stable/modules/preprocessing.html.\n",
      "Please also refer to the documentation for alternative solver options:\n",
      "    https://scikit-learn.org/stable/modules/linear_model.html#logistic-regression\n",
      "  extra_warning_msg=_LOGISTIC_SOLVER_CONVERGENCE_MSG)\n"
     ]
    }
   ],
   "source": [
    "from sklearn.linear_model import LogisticRegression\n",
    "from sklearn.metrics import accuracy_score\n",
    "\n",
    "model=LogisticRegression(C=1e5,solver='lbfgs',multi_class='multinomial')\n",
    "model=model.fit(X_train,y_train)\n",
    "y_pred=model.predict(X_test)\n",
    "print(\"Accuracy of model {}%\".format(accuracy_score(y_test,y_pred.tolist())*100))\n"
   ]
  },
  {
   "cell_type": "code",
   "execution_count": null,
   "metadata": {},
   "outputs": [],
   "source": []
  }
 ],
 "metadata": {
  "kernelspec": {
   "display_name": "Python 3",
   "language": "python",
   "name": "python3"
  },
  "language_info": {
   "codemirror_mode": {
    "name": "ipython",
    "version": 3
   },
   "file_extension": ".py",
   "mimetype": "text/x-python",
   "name": "python",
   "nbconvert_exporter": "python",
   "pygments_lexer": "ipython3",
   "version": "3.6.9"
  }
 },
 "nbformat": 4,
 "nbformat_minor": 2
}
