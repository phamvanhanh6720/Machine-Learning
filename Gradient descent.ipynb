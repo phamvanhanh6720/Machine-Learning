{
 "cells": [
  {
   "cell_type": "code",
   "execution_count": 8,
   "metadata": {
    "ExecuteTime": {
     "end_time": "2019-12-06T17:44:31.397818Z",
     "start_time": "2019-12-06T17:44:31.386820Z"
    }
   },
   "outputs": [
    {
     "name": "stdout",
     "output_type": "stream",
     "text": [
      "Solution x1=-1.110667, cost=-3.246394, after 11 iterations\n",
      "Solution x2=-1.110341, cost=-3.246394, after 29 iterations\n"
     ]
    }
   ],
   "source": [
    "import numpy as np\n",
    "def cost(x):\n",
    "    return x**2+5*np.sin(x)\n",
    "\n",
    "def gra(x):\n",
    "    return 2*x+5*np.cos(x)\n",
    "def myGD1(x0,lr):\n",
    "    x=[x0]\n",
    "    for it in range(100):\n",
    "        x_new=x[-1]-lr*gra(x[-1])\n",
    "        if abs(gra(x_new))<1e-3:\n",
    "            break\n",
    "        x.append(x_new)\n",
    "    return (x,it)\n",
    "(x1,it1)=myGD1(-5,0.1)\n",
    "(x2,it2)=myGD1(5,0.1)\n",
    "print('Solution x1=%f, cost=%f, after %d iterations'%(x1[-1],cost(x1[-1]),it1))\n",
    "print('Solution x2=%f, cost=%f, after %d iterations'%(x2[-1],cost(x2[-1]),it2))"
   ]
  },
  {
   "cell_type": "code",
   "execution_count": 13,
   "metadata": {
    "ExecuteTime": {
     "end_time": "2019-12-06T17:52:15.558934Z",
     "start_time": "2019-12-06T17:52:15.537942Z"
    }
   },
   "outputs": [
    {
     "name": "stdout",
     "output_type": "stream",
     "text": [
      "Solution found by myGD: w= [3.9703068  3.05318462] after 82 iterations\n"
     ]
    }
   ],
   "source": [
    "import numpy\n",
    "X=np.random.rand(1000)\n",
    "y=4+3*X+0.5*np.random.randn(1000)\n",
    "\n",
    "def grad(w):\n",
    "    N=Xbar.shape[0]\n",
    "    return 1/N *Xbar.T.dot(Xbar.dot(w)-y)\n",
    "def cost(w):\n",
    "    N=Xbar.shape[0]\n",
    "    return 0.5/N *np.linalg.norm(y-Xbar.dot(w))**2\n",
    "def myGD(w_init,grad,lr):\n",
    "    w=[w_init]\n",
    "    for i in range(100):\n",
    "        w_new=w[-1]-lr*grad(w[-1])\n",
    "        if np.linalg.norm(grad(w_new))/len(w_new)<1e-4:\n",
    "            break\n",
    "        w.append(w_new)\n",
    "    return (w,i)\n",
    "one=np.ones((X.shape[0],1))\n",
    "Xbar=np.concatenate((one,X.reshape(-1,1)),axis=1)\n",
    "w_init=np.array([2,1])\n",
    "(w1,it1)=myGD(w_init,grad,1)\n",
    "print('Solution found by myGD: w=',w1[-1],'after %d iterations'%(it1+1))"
   ]
  },
  {
   "cell_type": "code",
   "execution_count": 47,
   "metadata": {
    "ExecuteTime": {
     "end_time": "2019-12-06T18:17:54.992797Z",
     "start_time": "2019-12-06T18:17:54.984782Z"
    }
   },
   "outputs": [
    {
     "name": "stdout",
     "output_type": "stream",
     "text": [
      "Solution found by GD_momentum: w= -1.3102051314532384 after 100 iterations\n"
     ]
    }
   ],
   "source": [
    "import numpy\n",
    "def grad(x):\n",
    "    return 2*x+10*np.cos(x)\n",
    "def GD_momentum(grad,theta_init,eta,gamma):\n",
    "    theta=[theta_init]\n",
    "    v_old=np.zeros_like(theta_init)\n",
    "    for i in range(100):\n",
    "        v_new=gamma*v_old+eta*grad(theta[-1])\n",
    "        theta_new=theta[-1]-v_new\n",
    "        if np.linalg.norm(grad(theta_new))/np.array(theta_init).size<1e-3:\n",
    "            break\n",
    "        theta.append(theta_new)\n",
    "        v_old=v_new\n",
    "    return (theta,i)\n",
    "\n",
    "\n",
    "(w2,it2)=GD_momentum(grad,5,0.1,0.9)\n",
    "print('Solution found by GD_momentum: w=',w2[-1],'after %d iterations'%(it2+1)) \n"
   ]
  },
  {
   "cell_type": "code",
   "execution_count": 48,
   "metadata": {
    "ExecuteTime": {
     "end_time": "2019-12-06T18:18:12.665267Z",
     "start_time": "2019-12-06T18:18:12.656272Z"
    }
   },
   "outputs": [
    {
     "name": "stdout",
     "output_type": "stream",
     "text": [
      "Solution found by GD_NAD: w= -1.3063424342771084 after 20 iterations\n"
     ]
    }
   ],
   "source": [
    "import numpy\n",
    "def grad(x):\n",
    "    return 2*x+10*np.cos(x)\n",
    "def GD_NAD(grad,theta_init,eta,gamma):\n",
    "    theta=[theta_init]\n",
    "    v_old=np.zeros_like(theta_init)\n",
    "    for i in range(100):\n",
    "        v_new=gamma*v_old+eta*grad(theta[-1]-gamma*v_old)\n",
    "        theta_new=theta[-1]-v_new\n",
    "        if np.linalg.norm(grad(theta_new))/np.array(theta_init).size<1e-3:\n",
    "            break\n",
    "        theta.append(theta_new)\n",
    "        v_old=v_new\n",
    "    return (theta,i)\n",
    "\n",
    "(w3,it3)=GD_NAD(grad,5,0.1,0.9)\n",
    "print('Solution found by GD_NAD: w=',w3[-1],'after %d iterations'%(it3+1)) "
   ]
  },
  {
   "cell_type": "code",
   "execution_count": null,
   "metadata": {},
   "outputs": [],
   "source": []
  }
 ],
 "metadata": {
  "kernelspec": {
   "display_name": "Python 3",
   "language": "python",
   "name": "python3"
  },
  "language_info": {
   "codemirror_mode": {
    "name": "ipython",
    "version": 3
   },
   "file_extension": ".py",
   "mimetype": "text/x-python",
   "name": "python",
   "nbconvert_exporter": "python",
   "pygments_lexer": "ipython3",
   "version": "3.7.4"
  },
  "toc": {
   "base_numbering": 1,
   "nav_menu": {},
   "number_sections": true,
   "sideBar": true,
   "skip_h1_title": false,
   "title_cell": "Table of Contents",
   "title_sidebar": "Contents",
   "toc_cell": false,
   "toc_position": {},
   "toc_section_display": true,
   "toc_window_display": false
  },
  "varInspector": {
   "cols": {
    "lenName": 16,
    "lenType": 16,
    "lenVar": 40
   },
   "kernels_config": {
    "python": {
     "delete_cmd_postfix": "",
     "delete_cmd_prefix": "del ",
     "library": "var_list.py",
     "varRefreshCmd": "print(var_dic_list())"
    },
    "r": {
     "delete_cmd_postfix": ") ",
     "delete_cmd_prefix": "rm(",
     "library": "var_list.r",
     "varRefreshCmd": "cat(var_dic_list()) "
    }
   },
   "types_to_exclude": [
    "module",
    "function",
    "builtin_function_or_method",
    "instance",
    "_Feature"
   ],
   "window_display": false
  }
 },
 "nbformat": 4,
 "nbformat_minor": 2
}
