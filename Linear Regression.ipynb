{
 "cells": [
  {
   "cell_type": "code",
   "execution_count": 1,
   "metadata": {
    "ExecuteTime": {
     "end_time": "2019-11-01T19:32:46.028181Z",
     "start_time": "2019-11-01T19:32:45.698369Z"
    }
   },
   "outputs": [
    {
     "name": "stdout",
     "output_type": "stream",
     "text": [
      "0.5592049619396846\n",
      "-33.73541020580524\n"
     ]
    }
   ],
   "source": [
    "import numpy as np\n",
    "import matplotlib.pyplot as plt\n",
    "\n",
    "#height\n",
    "X = np.array([[147, 150, 153, 158, 163, 165, 168, 170, 173, 175, 178, 180, 183]]).T\n",
    "#weight\n",
    "y = np.array([ 49, 50, 51, 54, 58, 59, 60, 62, 63, 64, 66, 67, 68])\n",
    "\n",
    "one=np.ones((X.shape[0],1))\n",
    "Xbar=np.concatenate((X,one),axis=1)\n",
    "A=np.dot(Xbar.T,Xbar)\n",
    "b=np.dot(Xbar.T,y)\n",
    "w=np.dot(np.linalg.pinv(A),b)\n",
    "w_0,w_1=w[0],w[1]\n",
    "\n",
    "print(w_0)\n",
    "print(w_1)"
   ]
  },
  {
   "cell_type": "code",
   "execution_count": 2,
   "metadata": {
    "ExecuteTime": {
     "end_time": "2019-11-01T19:32:48.731158Z",
     "start_time": "2019-11-01T19:32:48.530276Z"
    }
   },
   "outputs": [
    {
     "data": {
      "image/png": "[encoded data removed]",
      "text/plain": [
       "<Figure size 432x288 with 1 Axes>"
      ]
     },
     "metadata": {
      "needs_background": "light"
     },
     "output_type": "display_data"
    }
   ],
   "source": [
    "X1=np.linspace(140,190,1000)\n",
    "y1=X1*w_0+w_1\n",
    "plt.plot(X1,y1)\n",
    "plt.plot(X,y,'ro')\n",
    "plt.show()"
   ]
  },
  {
   "cell_type": "code",
   "execution_count": 3,
   "metadata": {
    "ExecuteTime": {
     "end_time": "2019-11-01T19:32:52.204910Z",
     "start_time": "2019-11-01T19:32:51.068540Z"
    }
   },
   "outputs": [
    {
     "name": "stdout",
     "output_type": "stream",
     "text": [
      "scikit-learn's solution : w_0= 0.5592049619396674 w_1= -33.73541020580774\n",
      "our solution            : w_0= 0.5592049619396846 w_1= -33.73541020580524\n"
     ]
    }
   ],
   "source": [
    "from sklearn import datasets, linear_model\n",
    "\n",
    "regr=linear_model.LinearRegression()\n",
    "regr.fit(X,y)\n",
    "\n",
    "#compare two results\n",
    "print(\"scikit-learn's solution : w_0=\",regr.coef_[0],\"w_1=\",regr.intercept_)\n",
    "print(\"our solution            : w_0=\",w[0],\"w_1=\",w[1])"
   ]
  },
  {
   "cell_type": "code",
   "execution_count": null,
   "metadata": {},
   "outputs": [],
   "source": []
  }
 ],
 "metadata": {
  "kernelspec": {
   "display_name": "Python 3",
   "language": "python",
   "name": "python3"
  },
  "language_info": {
   "codemirror_mode": {
    "name": "ipython",
    "version": 3
   },
   "file_extension": ".py",
   "mimetype": "text/x-python",
   "name": "python",
   "nbconvert_exporter": "python",
   "pygments_lexer": "ipython3",
   "version": "3.7.3"
  },
  "varInspector": {
   "cols": {
    "lenName": 16,
    "lenType": 16,
    "lenVar": 40
   },
   "kernels_config": {
    "python": {
     "delete_cmd_postfix": "",
     "delete_cmd_prefix": "del ",
     "library": "var_list.py",
     "varRefreshCmd": "print(var_dic_list())"
    },
    "r": {
     "delete_cmd_postfix": ") ",
     "delete_cmd_prefix": "rm(",
     "library": "var_list.r",
     "varRefreshCmd": "cat(var_dic_list()) "
    }
   },
   "types_to_exclude": [
    "module",
    "function",
    "builtin_function_or_method",
    "instance",
    "_Feature"
   ],
   "window_display": false
  }
 },
 "nbformat": 4,
 "nbformat_minor": 2
}
