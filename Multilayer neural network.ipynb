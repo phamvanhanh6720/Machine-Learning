{
 "cells": [
  {
   "cell_type": "code",
   "execution_count": 8,
   "metadata": {},
   "outputs": [
    {
     "name": "stdout",
     "output_type": "stream",
     "text": [
      "inter 0 loss: 1.098576591798379\n",
      "inter 1000 loss: 0.3022161158687518\n",
      "inter 2000 loss: 0.3337867057736681\n",
      "inter 3000 loss: 0.15372626781968135\n",
      "inter 4000 loss: 0.3239422550186436\n",
      "inter 5000 loss: 0.0523382834723485\n",
      "inter 6000 loss: 0.039753339455517664\n",
      "inter 7000 loss: 0.07984616176385714\n",
      "inter 8000 loss: 0.0371245342276507\n",
      "inter 9000 loss: 0.011001110155149941\n",
      "inter 10000 loss: 0.004889617008737862\n",
      "inter 11000 loss: 0.0031259892826571867\n",
      "inter 12000 loss: 0.0022729057439196064\n",
      "inter 13000 loss: 0.0017890596497294228\n",
      "inter 14000 loss: 0.0014701903323376504\n",
      "inter 15000 loss: 0.0012442346022121637\n",
      "inter 16000 loss: 0.0010750079515319214\n",
      "inter 17000 loss: 0.0009452523007129169\n",
      "inter 18000 loss: 0.0008406169855982901\n",
      "inter 19000 loss: 0.0007570285309612782\n",
      "inter 20000 loss: 0.0006883133537139266\n",
      "inter 21000 loss: 0.000629135653653911\n",
      "inter 22000 loss: 0.0005793337148235993\n",
      "inter 23000 loss: 0.0005365424233156884\n",
      "inter 24000 loss: 0.000499217325412277\n",
      "inter 25000 loss: 0.0004666933635385185\n",
      "inter 26000 loss: 0.00043801053144008304\n",
      "inter 27000 loss: 0.00041170112194381626\n",
      "inter 28000 loss: 0.00038871419987541366\n",
      "inter 29000 loss: 0.00036772907370478334\n",
      "training accuracy: 100.0\n"
     ]
    }
   ],
   "source": [
    "import numpy as np\n",
    "def softmax_stable(Z):\n",
    "    e_Z=np.exp(Z-np.max(Z,axis=1,keepdims=True))\n",
    "    A=e_Z/e_Z.sum(axis=1,keepdims=True)\n",
    "    return A\n",
    "\n",
    "def crossentropy_loss(Yhat,y):\n",
    "    \"\"\"\n",
    "    Yhat: a numpy array of shape (Npoints, nClasses) -- predicted output\n",
    "    y: a numpy array of shape (Npoints) -- ground truth.\n",
    "    NOTE: We don’t need to use the one-hot vector here since most of elements\n",
    "    are zeros. When programming in numpy, in each row of Yhat, we need to access\n",
    "    to the corresponding index only.\n",
    "    \"\"\"\n",
    "    id0=range(Yhat.shape[0])\n",
    "    return -np.mean(np.log(Yhat[id0,y]))\n",
    "\n",
    "def mlp_init(d0,d1,d2):\n",
    "    \"\"\"\n",
    "    d0: dimentions of input data\n",
    "    d1: number of hidden unit\n",
    "    d2:number of output unit= number of classes\n",
    "    \"\"\"\n",
    "    W1=0.01*np.random.rand(d0,d1)\n",
    "    b1=np.zeros(d1)\n",
    "    W2=0.01*np.random.rand(d1,d2)\n",
    "    b2=np.zeros(d2)\n",
    "    return (W1,b1,W2,b2)\n",
    "\n",
    "def mlp_predict(X,W1,b1,W2,b2):\n",
    "    Z1=X.dot(W1)+b1 #shape (N,d1)\n",
    "    A1=np.maximum(Z1,0) #shape(N,d1)\n",
    "    Z2=A1.dot(W2)+b2 #shape(N,d2)\n",
    "    \n",
    "    return np.argmax(Z2,axis=1)\n",
    "    \n",
    "def mlp_fit(X,y,W1,b1,W2,b2,eta):\n",
    "    loss_hist=[]\n",
    "    \n",
    "    for i in range(30000): #numer of epoches\n",
    "        Z1=X.dot(W1)+b1\n",
    "        A1=np.maximum(Z1,0) #shape(N,d1)\n",
    "        Z2=A1.dot(W2)+b2\n",
    "        Yhat=softmax_stable(Z2) #shape (N,d2)\n",
    "        \n",
    "        if i%1000==0: #print loss after each 1000 iterations\n",
    "            loss=crossentropy_loss(Yhat,y)\n",
    "            print(\"inter {} loss: {}\".format(i,loss))\n",
    "            loss_hist.append(loss)\n",
    "            \n",
    "        #back propagation\n",
    "        id0=range(Yhat.shape[0])\n",
    "        Yhat[id0,y]-=1\n",
    "        E2=Yhat/N\n",
    "        dW2 = np.dot(A1.T, E2) # shape (d1, d2)\n",
    "        db2 = np.sum(E2, axis = 0) # shape (d2,)\n",
    "        E1 = np.dot(E2, W2.T) # shape (N, d1)\n",
    "        E1[Z1 <= 0] = 0 # gradient of ReLU, shape (N, d1)\n",
    "        dW1 = np.dot(X.T, E1) # shape (d0, d1)\n",
    "        db1 = np.sum(E1, axis = 0) # shape (d1,)\n",
    "        \n",
    "        W1+=-eta*dW1\n",
    "        b1+=-eta*db1\n",
    "        W2+=-eta*dW2\n",
    "        b2+=-eta*db2\n",
    "        \n",
    "    return (W1,b1,W2,b2,loss_hist)\n",
    "\n",
    "means = [[-1, -1], [1, -1], [0, 1]]\n",
    "cov = [[1, 0], [0, 1]]\n",
    "N = 20\n",
    "X0 = np.random.multivariate_normal(means[0], cov, N)\n",
    "X1 = np.random.multivariate_normal(means[1], cov, N)\n",
    "X2 = np.random.multivariate_normal(means[2], cov, N)\n",
    "X = np.concatenate((X0, X1, X2), axis = 0)\n",
    "y = np.asarray([0]*N + [1]*N + [2]*N)\n",
    "\n",
    "\n",
    "# suppose X, y are training input and output, respectively\n",
    "d0 = 2 # data dimension\n",
    "d1 = h = 150 # number of hidden units\n",
    "d2 = C = 3 # number of classes\n",
    "eta = 0.5 # learning rate\n",
    "(W1, b1, W2, b2) = mlp_init(d0, d1, d2)\n",
    "(W1, b1, W2, b2, loss_hist) =mlp_fit(X, y, W1, b1, W2, b2, eta)\n",
    "y_pred = mlp_predict(X, W1, b1, W2, b2)\n",
    "acc = 100*np.mean(y_pred == y)\n",
    "print('training accuracy:',acc)"
   ]
  },
  {
   "cell_type": "code",
   "execution_count": 9,
   "metadata": {},
   "outputs": [
    {
     "data": {
      "image/png": "[encoded data removed]",
      "text/plain": [
       "<Figure size 432x288 with 1 Axes>"
      ]
     },
     "metadata": {
      "needs_background": "light"
     },
     "output_type": "display_data"
    }
   ],
   "source": [
    "import matplotlib.pyplot as plt\n",
    "plt.plot(range(len(loss_hist)),loss_hist)\n",
    "plt.show()"
   ]
  },
  {
   "cell_type": "code",
   "execution_count": null,
   "metadata": {},
   "outputs": [],
   "source": []
  }
 ],
 "metadata": {
  "kernelspec": {
   "display_name": "Python 3",
   "language": "python",
   "name": "python3"
  },
  "language_info": {
   "codemirror_mode": {
    "name": "ipython",
    "version": 3
   },
   "file_extension": ".py",
   "mimetype": "text/x-python",
   "name": "python",
   "nbconvert_exporter": "python",
   "pygments_lexer": "ipython3",
   "version": "3.6.9"
  }
 },
 "nbformat": 4,
 "nbformat_minor": 2
}
