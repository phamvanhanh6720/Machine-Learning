{
 "cells": [
  {
   "cell_type": "code",
   "execution_count": 42,
   "metadata": {},
   "outputs": [],
   "source": [
    "import numpy as np\n",
    "from sklearn.svm import SVC\n",
    "from sklearn.metrics import accuracy_score\n",
    "from sklearn.model_selection import train_test_split\n",
    "\n",
    "def load_mnist(prefix,folder):\n",
    "    intType=np.dtype('int32').newbyteorder('>')\n",
    "    nMetaDataBytes=4*intType.itemsize\n",
    "    data=np.fromfile(folder+\"/\"+prefix+\"-images-idx3-ubyte\",dtype='ubyte')\n",
    "    \n",
    "    magicBytes,nImages,width,height=np.frombuffer(data[:nMetaDataBytes].tobytes(),intType)\n",
    "    data=data[nMetaDataBytes:].astype(dtype='float32').reshape(nImages,width*height)\n",
    "    \n",
    "    labels=np.fromfile(folder+\"/\"+prefix+\"-labels-idx1-ubyte\",dtype='ubyte')[2*intType.itemsize:]\n",
    "    \n",
    "    return data,labels\n",
    "X_train,y_train=load_mnist(\"train\",\"/datasets/mnist/\")\n",
    "X_test,y_test=load_mnist(\"t10k\",\"/datasets/mnist/\")\n",
    "\n",
    "digits=[0,1,2,3]\n",
    "ids1=[]\n",
    "ids2=[]\n",
    "for number in digits:\n",
    "    ids1.append(np.where(y_train==number)[0])\n",
    "    ids2.append(np.where(y_test==number)[0])\n",
    "ids1=np.concatenate(ids1,axis=0)\n",
    "ids2=np.concatenate(ids2,axis=0)\n",
    "\n",
    "X_train=X_train[ids1]\n",
    "y_train=y_train[ids1]\n",
    "X_test=X_test[ids2]\n",
    "y_test=y_test[ids2]\n",
    "\n",
    "X=np.concatenate((X_train,X_test),axis=0)/255.\n",
    "y=np.concatenate((y_train,y_test),axis=0)\n",
    "X_train,X_test,y_train,y_test=train_test_split(X,y,test_size=24000)\n"
   ]
  },
  {
   "cell_type": "code",
   "execution_count": 43,
   "metadata": {},
   "outputs": [
    {
     "data": {
      "text/plain": [
       "24000"
      ]
     },
     "execution_count": 43,
     "metadata": {},
     "output_type": "execute_result"
    }
   ],
   "source": [
    "X_train.shape[0]\n",
    "X_test.shape[0]"
   ]
  },
  {
   "cell_type": "code",
   "execution_count": 44,
   "metadata": {},
   "outputs": [],
   "source": [
    "model=SVC(kernel='rbf',gamma=.1,coef0=0)\n",
    "model.fit(X_train,y_train)\n",
    "y_pred=model.predict(X_test)\n"
   ]
  },
  {
   "cell_type": "code",
   "execution_count": 45,
   "metadata": {},
   "outputs": [
    {
     "name": "stdout",
     "output_type": "stream",
     "text": [
      "Accuracy of kernel SVM:  94.80416666666667\n"
     ]
    }
   ],
   "source": [
    "print(\"Accuracy of kernel SVM: \",accuracy_score(y_test,y_pred)*100)"
   ]
  },
  {
   "cell_type": "code",
   "execution_count": null,
   "metadata": {},
   "outputs": [],
   "source": []
  }
 ],
 "metadata": {
  "kernelspec": {
   "display_name": "Python 3",
   "language": "python",
   "name": "python3"
  },
  "language_info": {
   "codemirror_mode": {
    "name": "ipython",
    "version": 3
   },
   "file_extension": ".py",
   "mimetype": "text/x-python",
   "name": "python",
   "nbconvert_exporter": "python",
   "pygments_lexer": "ipython3",
   "version": "3.6.9"
  }
 },
 "nbformat": 4,
 "nbformat_minor": 2
}
