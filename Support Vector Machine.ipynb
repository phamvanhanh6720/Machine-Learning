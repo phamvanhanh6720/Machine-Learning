{
 "cells": [
  {
   "cell_type": "code",
   "execution_count": 26,
   "metadata": {},
   "outputs": [],
   "source": [
    "import numpy as np\n",
    "import matplotlib.pyplot as plt\n",
    "from cvxopt import matrix,solvers\n",
    "np.random.seed(22)\n",
    "\n",
    "means=[[2,2],[4,2]]\n",
    "cov=[[0.3,.2],[.2,.3]]\n",
    "N=10\n",
    "X0=np.random.multivariate_normal(means[0],cov,N)\n",
    "X1=np.random.multivariate_normal(means[1],cov,N)\n",
    "X=np.concatenate((X0,X1),axis=0)\n",
    "y=np.concatenate((np.ones(N),-np.ones(N)),axis=0)\n"
   ]
  },
  {
   "cell_type": "code",
   "execution_count": 27,
   "metadata": {},
   "outputs": [
    {
     "data": {
      "image/png": "[encoded data removed]",
      "text/plain": [
       "<Figure size 432x288 with 1 Axes>"
      ]
     },
     "metadata": {
      "needs_background": "light"
     },
     "output_type": "display_data"
    }
   ],
   "source": [
    "plt.scatter(X0[:,0],X0[:,1])\n",
    "plt.scatter(X1[:,0],X1[:,1])\n",
    "plt.show()\n"
   ]
  },
  {
   "cell_type": "code",
   "execution_count": 28,
   "metadata": {},
   "outputs": [
    {
     "name": "stdout",
     "output_type": "stream",
     "text": [
      "     pcost       dcost       gap    pres   dres\n",
      " 0: -1.9286e+00 -4.1878e+00  4e+01  6e+00  2e+00\n",
      " 1: -1.6207e+00 -3.2517e+00  3e+00  3e-01  8e-02\n",
      " 2: -2.0082e+00 -2.2760e+00  4e-01  3e-02  8e-03\n",
      " 3: -2.2149e+00 -2.2294e+00  2e-02  1e-03  3e-04\n",
      " 4: -2.2249e+00 -2.2250e+00  2e-04  1e-05  3e-06\n",
      " 5: -2.2250e+00 -2.2250e+00  2e-06  1e-07  3e-08\n",
      " 6: -2.2250e+00 -2.2250e+00  2e-08  1e-09  3e-10\n",
      "Optimal solution found.\n",
      "Number of super vector:  3\n",
      "[[-2.00984382  0.64068336]]\n",
      "4.668560683288075\n"
     ]
    }
   ],
   "source": [
    "#solving the dual problem\n",
    "V=np.concatenate((X0,-X1),axis=0)\n",
    "Q=matrix(V.dot(V.T))\n",
    "p=matrix(-np.ones((2*N,1)))\n",
    "\n",
    "G=matrix(-np.eye(2*N))\n",
    "h=matrix(np.zeros((2*N,1)))\n",
    "A=matrix(y.reshape(1,-1))\n",
    "b=matrix(np.zeros((1,1)))\n",
    "solvers.options['show_process']=False\n",
    "sol=solvers.qp(Q,p,G,h,A,b)\n",
    "l=np.array(sol['x']) #solution lamda\n",
    "\n",
    "#calculate w,b:\n",
    "w=V.T.dot(l)\n",
    "S=np.where(l>1e-8)[0]\n",
    "b=np.mean(y[S].reshape(-1,1)-X[S,:].dot(w))\n",
    "print(\"Number of super vector: \",S.size)\n",
    "print(w.T)\n",
    "print(b)"
   ]
  },
  {
   "cell_type": "code",
   "execution_count": 32,
   "metadata": {},
   "outputs": [
    {
     "data": {
      "image/png": "[encoded data removed]",
      "text/plain": [
       "<Figure size 432x288 with 1 Axes>"
      ]
     },
     "metadata": {
      "needs_background": "light"
     },
     "output_type": "display_data"
    }
   ],
   "source": [
    "plt.scatter(X0[:,0],X0[:,1])\n",
    "plt.scatter(X1[:,0],X1[:,1])\n",
    "x1=np.linspace(2,4,100)\n",
    "plt.plot(x1,(-b-w[0]*x1)/w[1],'r')\n",
    "plt.show()"
   ]
  },
  {
   "cell_type": "markdown",
   "metadata": {},
   "source": [
    "# Solution by sklearn\n"
   ]
  },
  {
   "cell_type": "code",
   "execution_count": 36,
   "metadata": {},
   "outputs": [
    {
     "name": "stdout",
     "output_type": "stream",
     "text": [
      "[[-2.00971102  0.64194082]]\n",
      "[4.66595309]\n"
     ]
    }
   ],
   "source": [
    "from sklearn.svm import SVC\n",
    "model=SVC(kernel='linear',C=1e5)\n",
    "model=model.fit(X,y)\n",
    "w=model.coef_\n",
    "b=model.intercept_\n",
    "print(w)\n",
    "print(b)"
   ]
  },
  {
   "cell_type": "code",
   "execution_count": null,
   "metadata": {},
   "outputs": [],
   "source": []
  },
  {
   "cell_type": "code",
   "execution_count": null,
   "metadata": {},
   "outputs": [],
   "source": []
  },
  {
   "cell_type": "code",
   "execution_count": null,
   "metadata": {},
   "outputs": [],
   "source": []
  }
 ],
 "metadata": {
  "kernelspec": {
   "display_name": "Python 3",
   "language": "python",
   "name": "python3"
  },
  "language_info": {
   "codemirror_mode": {
    "name": "ipython",
    "version": 3
   },
   "file_extension": ".py",
   "mimetype": "text/x-python",
   "name": "python",
   "nbconvert_exporter": "python",
   "pygments_lexer": "ipython3",
   "version": "3.6.9"
  }
 },
 "nbformat": 4,
 "nbformat_minor": 2
}
