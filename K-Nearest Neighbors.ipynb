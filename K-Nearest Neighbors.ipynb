{
 "cells": [
  {
   "cell_type": "code",
   "execution_count": 2,
   "metadata": {
    "ExecuteTime": {
     "end_time": "2019-11-08T03:39:40.280809Z",
     "start_time": "2019-11-08T03:39:39.725126Z"
    }
   },
   "outputs": [
    {
     "name": "stdout",
     "output_type": "stream",
     "text": [
      "native point2set, running time: 0.19189119338989258\n",
      "fast point2set, running time: 0.07196354866027832\n",
      "Difference between two results: 9.295202640449052e-12\n"
     ]
    }
   ],
   "source": [
    "import numpy as np\n",
    "from time import time\n",
    "d,N=1000,10000\n",
    "X=np.random.rand(N,d)\n",
    "z=np.random.rand(d)\n",
    "\n",
    "\n",
    "def dist_pp(x,z):\n",
    "    d=z-x.reshape(z.shape)\n",
    "    return np.sum(d*d)\n",
    "def dist_ps_native(z,X):\n",
    "    res=np.ones((1,N))\n",
    "    for i in range(N):\n",
    "        res[0][i]=dist_pp(X[i],z)\n",
    "    return res\n",
    "\n",
    "def dist_ps_fast(z,X):\n",
    "    X2=np.sum(X**2,1)\n",
    "    z2=np.sum(z*z)\n",
    "    return X2+z2-2*X.dot(z)\n",
    "\n",
    "t1=time()\n",
    "D1=dist_ps_native(z,X)\n",
    "print(\"native point2set, running time:\",time()-t1)\n",
    "\n",
    "t1=time()\n",
    "D2=dist_ps_fast(z,X)\n",
    "print(\"fast point2set, running time:\",time()-t1)\n",
    "print(\"Difference between two results:\",np.linalg.norm(D1-D2))"
   ]
  },
  {
   "cell_type": "code",
   "execution_count": 3,
   "metadata": {
    "ExecuteTime": {
     "end_time": "2019-11-08T03:39:49.699126Z",
     "start_time": "2019-11-08T03:39:43.446799Z"
    }
   },
   "outputs": [
    {
     "name": "stdout",
     "output_type": "stream",
     "text": [
      "haft fast set2set running time: 6.112372398376465\n",
      "fast set2set running time: 0.1169731616973877\n",
      "Results Diference: 1.2033927645139535e-10\n"
     ]
    }
   ],
   "source": [
    "M=100\n",
    "Z=np.random.rand(M,d)\n",
    "def dist_ss_0(Z,X):\n",
    "    M=Z.shape[0]\n",
    "    N=X.shape[0]\n",
    "    res=np.zeros((M,N))\n",
    "    for i in range(M):\n",
    "        res[i]=dist_ps_fast(Z[i],X)\n",
    "    return res\n",
    "\n",
    "def dist_ss_fast(Z,X):\n",
    "    X2=np.sum(X*X,1)\n",
    "    Z2=np.sum(Z*Z,1)\n",
    "    return Z2.reshape(-1,1)+X2.reshape(1,-1)-2*Z.dot(X.T)\n",
    "    \n",
    "    \n",
    "t1=time()\n",
    "D3=dist_ss_0(Z,X)\n",
    "print(\"haft fast set2set running time:\",time()-t1)\n",
    "t1=time()\n",
    "D4=dist_ss_fast(Z,X)\n",
    "print(\"fast set2set running time:\",time()-t1)\n",
    "print(\"Results Diference:\",np.linalg.norm(D3-D4))\n",
    "\n"
   ]
  },
  {
   "cell_type": "code",
   "execution_count": 7,
   "metadata": {
    "ExecuteTime": {
     "end_time": "2019-11-08T03:56:40.356644Z",
     "start_time": "2019-11-08T03:56:40.337653Z"
    }
   },
   "outputs": [
    {
     "name": "stdout",
     "output_type": "stream",
     "text": [
      "Label [0 1 2]\n",
      "Train size 20 Test size 130\n"
     ]
    }
   ],
   "source": [
    "import numpy as np\n",
    "from sklearn import neighbors,datasets\n",
    "from sklearn.model_selection import train_test_split\n",
    "from sklearn.metrics import accuracy_score\n",
    "\n",
    "np.random.seed(3)\n",
    "iris=datasets.load_iris()\n",
    "iris_X=iris.data\n",
    "iris_y=iris.target\n",
    "\n",
    "print(\"Label\",np.unique(iris_y))\n",
    "\n",
    "#split train and test\n",
    "X_train,X_test,y_train,y_test=train_test_split(iris_X,iris_y,test_size=130)\n",
    "print(\"Train size\",X_train.shape[0],\"Test size\",X_test.shape[0])"
   ]
  },
  {
   "cell_type": "code",
   "execution_count": 19,
   "metadata": {
    "ExecuteTime": {
     "end_time": "2019-11-08T04:10:00.141943Z",
     "start_time": "2019-11-08T04:10:00.130946Z"
    }
   },
   "outputs": [
    {
     "name": "stdout",
     "output_type": "stream",
     "text": [
      "Accuracy of 1NN: 89.23%\n"
     ]
    }
   ],
   "source": [
    "model=neighbors.KNeighborsClassifier(n_neighbors=7,p=2,weights='distance')\n",
    "model.fit(X_train,y_train)\n",
    "y_pred=model.predict(X_test)\n",
    "print(\"Accuracy of 1NN: %.2f%%\"%(100*accuracy_score(y_test,y_pred)))"
   ]
  },
  {
   "cell_type": "code",
   "execution_count": null,
   "metadata": {},
   "outputs": [],
   "source": []
  }
 ],
 "metadata": {
  "kernelspec": {
   "display_name": "Python 3",
   "language": "python",
   "name": "python3"
  },
  "language_info": {
   "codemirror_mode": {
    "name": "ipython",
    "version": 3
   },
   "file_extension": ".py",
   "mimetype": "text/x-python",
   "name": "python",
   "nbconvert_exporter": "python",
   "pygments_lexer": "ipython3",
   "version": "3.7.4"
  },
  "toc": {
   "base_numbering": 1,
   "nav_menu": {},
   "number_sections": true,
   "sideBar": true,
   "skip_h1_title": false,
   "title_cell": "Table of Contents",
   "title_sidebar": "Contents",
   "toc_cell": false,
   "toc_position": {},
   "toc_section_display": true,
   "toc_window_display": false
  },
  "varInspector": {
   "cols": {
    "lenName": 16,
    "lenType": 16,
    "lenVar": 40
   },
   "kernels_config": {
    "python": {
     "delete_cmd_postfix": "",
     "delete_cmd_prefix": "del ",
     "library": "var_list.py",
     "varRefreshCmd": "print(var_dic_list())"
    },
    "r": {
     "delete_cmd_postfix": ") ",
     "delete_cmd_prefix": "rm(",
     "library": "var_list.r",
     "varRefreshCmd": "cat(var_dic_list()) "
    }
   },
   "types_to_exclude": [
    "module",
    "function",
    "builtin_function_or_method",
    "instance",
    "_Feature"
   ],
   "window_display": false
  }
 },
 "nbformat": 4,
 "nbformat_minor": 2
}
