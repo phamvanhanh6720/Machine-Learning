{
 "cells": [
  {
   "cell_type": "code",
   "execution_count": 35,
   "metadata": {},
   "outputs": [],
   "source": [
    "import numpy as np\n",
    "import matplotlib.pyplot as plt\n",
    "np.random.seed(22)\n",
    "\n",
    "means=[[2,2],[4,2]]\n",
    "cov=[[.7,0],[0,.7]]\n",
    "N=20\n",
    "\n",
    "X0=np.random.multivariate_normal(means[0],cov,N)\n",
    "X1=np.random.multivariate_normal(means[1],cov,N)\n",
    "X=np.concatenate((X0,X1),axis=0)\n",
    "y=np.concatenate((np.ones(N),-np.ones(N)),axis=0)\n"
   ]
  },
  {
   "cell_type": "code",
   "execution_count": 2,
   "metadata": {},
   "outputs": [
    {
     "data": {
      "image/png": "[encoded data removed]",
      "text/plain": [
       "<Figure size 432x288 with 1 Axes>"
      ]
     },
     "metadata": {
      "needs_background": "light"
     },
     "output_type": "display_data"
    }
   ],
   "source": [
    "plt.scatter(X0[:,0],X0[:,1])\n",
    "plt.scatter(X1[:,0],X1[:,1])\n",
    "plt.show()"
   ]
  },
  {
   "cell_type": "markdown",
   "metadata": {},
   "source": [
    "# Solving by sklearn"
   ]
  },
  {
   "cell_type": "code",
   "execution_count": 6,
   "metadata": {},
   "outputs": [
    {
     "name": "stdout",
     "output_type": "stream",
     "text": [
      "[[-1.87461946]\n",
      " [-1.80697358]] \n",
      " 8.496911901960104\n"
     ]
    }
   ],
   "source": [
    "from sklearn.svm import SVC\n",
    "C=100\n",
    "clf=SVC(kernel='linear',C=C)\n",
    "clf.fit(X,y)\n",
    "w_sklearn=clf.coef_.reshape(-1,1)\n",
    "b_sklearn=clf.intercept_[0]\n",
    "print(w_sklearn,'\\n',b_sklearn)"
   ]
  },
  {
   "cell_type": "markdown",
   "metadata": {},
   "source": [
    "# Solving by dual problem\n"
   ]
  },
  {
   "cell_type": "code",
   "execution_count": 15,
   "metadata": {},
   "outputs": [
    {
     "name": "stdout",
     "output_type": "stream",
     "text": [
      "w_dual =  [-1.87457279 -1.80695039]\n",
      "_dual =  8.496721098145423\n"
     ]
    }
   ],
   "source": [
    "from cvxopt import matrix,solvers\n",
    "\n",
    "\n",
    "#build K\n",
    "V=np.concatenate((X0,-X1),axis=0)\n",
    "K=matrix(V.dot(V.T))\n",
    "p=matrix(-np.ones((2*N,1)))\n",
    "\n",
    "#build A,b,G,h\n",
    "G=matrix(np.vstack((-np.eye(2*N),np.eye(2*N))))\n",
    "h = np.vstack((np.zeros((2*N, 1)), C*np.ones((2*N, 1))))\n",
    "h = matrix(np.vstack((np.zeros((2*N, 1)), C*np.ones((2*N, 1)))))\n",
    "A=matrix(y.reshape(-1,2*N))\n",
    "b=matrix(np.zeros((1,1)))\n",
    "\n",
    "solvers.options['show_progress']=False\n",
    "sol=solvers.qp(K,p,G,h,A,b)\n",
    "l=np.array(sol['x']).reshape(2*N,1) #lamda vector\n",
    "\n",
    "#support set\n",
    "S=np.where(l>1e-5)[0]\n",
    "S2=np.where(l<.999*C)[0]\n",
    "\n",
    "#margin set\n",
    "M = [val for val in S if val in S2] # intersection of two lists\n",
    "VS = V[S] # shape (NS, d)\n",
    "lS = l[S] # shape (NS,)\n",
    "w_dual = lS.reshape(1,-1).dot(VS) # shape (d,)\n",
    "w_dual=w_dual.reshape(2,)\n",
    "yM = y[M] # shape(NM,)\n",
    "XM = X[M] # shape(NM, d)\n",
    "b_dual = np.mean(yM - XM.dot(w_dual)) # shape (1,)\n",
    "print('w_dual = ', w_dual)\n",
    "print('_dual = ', b_dual)"
   ]
  },
  {
   "cell_type": "markdown",
   "metadata": {},
   "source": [
    "# Giai bang toi uu ko rang buoc\n"
   ]
  },
  {
   "cell_type": "code",
   "execution_count": 58,
   "metadata": {},
   "outputs": [
    {
     "name": "stdout",
     "output_type": "stream",
     "text": [
      "iter: 1000 ,loss: 0.43640835477201145\n",
      "iter: 2000 ,loss: 0.40529065426491817\n",
      "iter: 3000 ,loss: 0.3998439275077987\n",
      "iter: 4000 ,loss: 0.3951870928938118\n",
      "iter: 5000 ,loss: 0.3939443444890992\n",
      "iter: 6000 ,loss: 0.39384981837074523\n",
      "iter: 7000 ,loss: 0.3938800489056252\n",
      "iter: 8000 ,loss: 0.3938331557221531\n",
      "iter: 9000 ,loss: 0.39397228602464707\n",
      "iter: 10000 ,loss: 0.39372302945225973\n"
     ]
    }
   ],
   "source": [
    "np.random.seed(22)\n",
    "\n",
    "means=[[2,2],[4,2]]\n",
    "cov=[[.7,0],[0,.7]]\n",
    "N=20\n",
    "\n",
    "X0=np.random.multivariate_normal(means[0],cov,N)\n",
    "X1=np.random.multivariate_normal(means[1],cov,N)\n",
    "X=np.concatenate((X0,X1),axis=0)\n",
    "y=np.concatenate((np.ones(N),-np.ones(N)),axis=0)\n",
    "\n",
    "C=100\n",
    "lam=1/C\n",
    "def loss(X,y,w,b):\n",
    "    \"\"\"\n",
    "    X: shape(2N,d)\n",
    "    y: shape(2N,)\n",
    "    w: shape(d,)\n",
    "    b is a scalar\n",
    "    \"\"\"\n",
    "    a=1-y*(X.dot(w)+b)\n",
    "    mask=a<0\n",
    "    a[mask]=0\n",
    "    return (sum(a)+.5*lam*w.dot(w))/X.shape[0]\n",
    "\n",
    "def grad(X,y,w,b):\n",
    "    z=X.dot(w)+b #shape(2N,)\n",
    "    yz=y*z\n",
    "    active_set=np.where(yz<=1)[0]\n",
    "    _yX=-X*y[:,np.newaxis]\n",
    "    \n",
    "    grad_w=(np.sum(_yX[active_set],axis=0)+lam*w)/X.shape[0]\n",
    "    grad_b=(-np.sum(y[active_set]))/X.shape[0]\n",
    "    \n",
    "    return grad_w,grad_b\n",
    "\n",
    "def soft_margin_SVM(X,y,w_init,b_init,eta=0.05):\n",
    "    w=w_init\n",
    "    b=b_init\n",
    "    loss_his=[loss(X,y,w,b)]\n",
    "    it=0\n",
    "    while it<=10000:\n",
    "        it+=1\n",
    "        grad_w,grad_b=grad(X,y,w,b)\n",
    "        w=w-eta*grad_w\n",
    "        b=b-eta*grad_b\n",
    "        if it%1000==0:\n",
    "            print('iter:',it,',loss:',loss(X,y,w,b))\n",
    "            loss_his.append(loss(X,y,w,b))\n",
    "    return w,b,loss_his\n",
    "w_init=.1*np.random.rand(X.shape[1])\n",
    "b_init=.1*np.random.rand()\n",
    "w,b,loss_his=soft_margin_SVM(X,y,w_init,b_init)"
   ]
  },
  {
   "cell_type": "code",
   "execution_count": 59,
   "metadata": {},
   "outputs": [
    {
     "data": {
      "image/png": "[encoded data removed]",
      "text/plain": [
       "<Figure size 432x288 with 1 Axes>"
      ]
     },
     "metadata": {
      "needs_background": "light"
     },
     "output_type": "display_data"
    }
   ],
   "source": [
    "import matplotlib.pyplot as plt\n",
    "plt.plot(range(len(loss_his)),loss_his)\n",
    "plt.show()"
   ]
  },
  {
   "cell_type": "code",
   "execution_count": 60,
   "metadata": {},
   "outputs": [
    {
     "name": "stdout",
     "output_type": "stream",
     "text": [
      "[-1.36845863 -1.32014833] 6.483185273751131\n"
     ]
    }
   ],
   "source": [
    "print(w,b)"
   ]
  },
  {
   "cell_type": "code",
   "execution_count": null,
   "metadata": {},
   "outputs": [],
   "source": []
  }
 ],
 "metadata": {
  "kernelspec": {
   "display_name": "Python 3",
   "language": "python",
   "name": "python3"
  },
  "language_info": {
   "codemirror_mode": {
    "name": "ipython",
    "version": 3
   },
   "file_extension": ".py",
   "mimetype": "text/x-python",
   "name": "python",
   "nbconvert_exporter": "python",
   "pygments_lexer": "ipython3",
   "version": "3.6.9"
  }
 },
 "nbformat": 4,
 "nbformat_minor": 2
}
