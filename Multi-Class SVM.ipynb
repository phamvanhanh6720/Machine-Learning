{
 "cells": [
  {
   "cell_type": "code",
   "execution_count": 49,
   "metadata": {},
   "outputs": [],
   "source": [
    "import numpy as np\n",
    "from keras.datasets import cifar10\n",
    "from sklearn.model_selection import train_test_split\n",
    "\n",
    "(X_train, y_train), (X_test, y_test) = cifar10.load_data()\n",
    "X_train,X_val,y_train,y_val=train_test_split(X_train,y_train,test_size=1000)\n",
    "\n",
    "image_mean=np.mean(X_train,axis=0)\n",
    "\n",
    "def feature_engineering(X):\n",
    "    X=X.astype(float)\n",
    "    X-=image_mean\n",
    "    N=X.shape[0]\n",
    "    X=X.reshape(N,-1)\n",
    "    #bias trick\n",
    "    X=np.concatenate((X,np.ones((N,1))),axis=1)\n",
    "    \n",
    "    return X\n",
    "X_train=feature_engineering(X_train)\n",
    "X_val=feature_engineering(X_val)\n",
    "X_test=feature_engineering(X_test)\n",
    "y_train=y_train.flatten()\n",
    "y_val=y_val.flatten()\n",
    "y_test=y_test.flatten()"
   ]
  },
  {
   "cell_type": "code",
   "execution_count": 51,
   "metadata": {},
   "outputs": [
    {
     "ename": "IndentationError",
     "evalue": "expected an indented block (<ipython-input-51-7d53ae22cf9b>, line 46)",
     "output_type": "error",
     "traceback": [
      "\u001b[0;36m  File \u001b[0;32m\"<ipython-input-51-7d53ae22cf9b>\"\u001b[0;36m, line \u001b[0;32m46\u001b[0m\n\u001b[0;31m    return W,loss_history\u001b[0m\n\u001b[0m    ^\u001b[0m\n\u001b[0;31mIndentationError\u001b[0m\u001b[0;31m:\u001b[0m expected an indented block\n"
     ]
    }
   ],
   "source": [
    "def svm_loss_vectorized(X,y,W,reg):\n",
    "    \"\"\"\n",
    "    X: shape (N,d)\n",
    "    \"\"\"\n",
    "    N=X.shape[0]\n",
    "    d,C=W.shape\n",
    "    loss=0\n",
    "    dW=np.zeros_like(W)\n",
    "    \n",
    "    Z=X.dot(W) #shape(N,C)\n",
    "    id0=np.arange(N)\n",
    "    \n",
    "    margins=np.maximum(0,Z-(Z[id0,y]).reshape(N,1)+1) #shape of (N,C)\n",
    "    margins[id0,y]=0\n",
    "    loss=np.sum(margins)\n",
    "    loss/=N\n",
    "    loss+=0.5*reg*np.linalg.norm(W)**2\n",
    "    \n",
    "    F=(margins>0).astype(int) #shape of(N,C)\n",
    "    F[id0,y]=np.sum(-F,axis=1)\n",
    "    \n",
    "    dW=X.T.dot(F)/N + reg*W\n",
    "    return loss,dW\n",
    "\n",
    "#mini_batch_gradien_descent\n",
    "def multi_class_SVM(X,y,W_init,reg,lr=.1,batch_size=1000,epoches=50,print_every=10):\n",
    "    N=X.shape[0]\n",
    "    W=W_init\n",
    "    loss_history=[]\n",
    "    n_batches=int(np.ceil(X.shape[0]/float(batch_size)))\n",
    "    for it in range(epoches):\n",
    "        mix_idx=np.random.permutation(N)\n",
    "        \n",
    "        for ib in range(n_batches):\n",
    "            ids=mix_idx[ib*batch_size:(ib+1)*batch_size]\n",
    "            X_batch=X[ids]\n",
    "            y_batch=y[ids]\n",
    "            \n",
    "            loss,dW=svm_loss_vectorized(X_batch,y_batch,W,reg)\n",
    "            W-=lr*dW\n",
    "            loss_history.append(loss)\n",
    "            \n",
    "        #if it%print_every==0:\n",
    "            #print('epoch {}/{},'.format(it,epoches),'loss:',loss)\n",
    "    \n",
    "    return W,loss_history\n"
   ]
  },
  {
   "cell_type": "code",
   "execution_count": 39,
   "metadata": {},
   "outputs": [
    {
     "name": "stdout",
     "output_type": "stream",
     "text": [
      "epoch 0/50, loss: 6.591784801126247\n",
      "epoch 5/50, loss: 5.585656384188264\n",
      "epoch 10/50, loss: 5.081067487616426\n",
      "epoch 15/50, loss: 4.900808801073525\n",
      "epoch 20/50, loss: 4.670746770023425\n",
      "epoch 25/50, loss: 4.973934094704613\n",
      "epoch 30/50, loss: 4.808668275208203\n",
      "epoch 35/50, loss: 4.984891502640611\n",
      "epoch 40/50, loss: 4.587403184920028\n",
      "epoch 45/50, loss: 4.654722226360427\n"
     ]
    }
   ],
   "source": [
    "d,C=X_train.shape[1],10\n",
    "W=.00001*np.random.rand(d,C)\n",
    "reg=.1\n",
    "W,loss_history=multi_class_SVM(X_train,y_train,W,reg=0.1,lr=1e-8,print_every=5)"
   ]
  },
  {
   "cell_type": "code",
   "execution_count": 44,
   "metadata": {},
   "outputs": [
    {
     "data": {
      "image/png": "[encoded data removed]",
      "text/plain": [
       "<Figure size 432x288 with 1 Axes>"
      ]
     },
     "metadata": {
      "needs_background": "light"
     },
     "output_type": "display_data"
    }
   ],
   "source": [
    "import matplotlib.pyplot as plt\n",
    "plt.plot(range(len(loss_history)),loss_history)\n",
    "plt.show()"
   ]
  },
  {
   "cell_type": "code",
   "execution_count": 52,
   "metadata": {},
   "outputs": [
    {
     "name": "stdout",
     "output_type": "stream",
     "text": [
      "epoch 0/100, loss: 8.570990041995097\n",
      "lr=1e-09, reg=0.1, loss=5.173734487254067,validation_accuracy=32.8\n",
      "epoch 0/100, loss: 5.021811203265277\n",
      "lr=1e-09, reg=0.01, loss=4.845785875872983,validation_accuracy=33.8\n",
      "epoch 0/100, loss: 4.690710020448899\n",
      "lr=1e-09, reg=0.001, loss=4.598539589054559,validation_accuracy=34.0\n",
      "epoch 0/100, loss: 4.61731001399914\n",
      "lr=1e-09, reg=0.0001, loss=4.584293264230554,validation_accuracy=34.3\n",
      "epoch 0/100, loss: 4.742598080805944\n",
      "lr=1e-08, reg=0.1, loss=4.257817482430104,validation_accuracy=37.3\n",
      "epoch 0/100, loss: 4.467084385534133\n",
      "lr=1e-08, reg=0.01, loss=4.500568395496875,validation_accuracy=38.8\n",
      "epoch 0/100, loss: 4.482235289903197\n",
      "lr=1e-08, reg=0.001, loss=4.310664898960802,validation_accuracy=38.7\n",
      "epoch 0/100, loss: 4.091968591799759\n",
      "lr=1e-08, reg=0.0001, loss=4.32676418630189,validation_accuracy=38.7\n",
      "epoch 0/100, loss: 4.259581913256798\n",
      "lr=1e-07, reg=0.1, loss=3.9226694605868704,validation_accuracy=38.9\n",
      "epoch 0/100, loss: 4.0607800098439455\n",
      "lr=1e-07, reg=0.01, loss=3.813106235805878,validation_accuracy=38.6\n",
      "epoch 0/100, loss: 3.935616938134221\n",
      "lr=1e-07, reg=0.001, loss=3.7691441292501766,validation_accuracy=38.7\n",
      "epoch 0/100, loss: 3.8094435210652042\n",
      "lr=1e-07, reg=0.0001, loss=3.7851484244214433,validation_accuracy=39.0\n",
      "epoch 0/100, loss: 4.041140755387473\n",
      "lr=1e-06, reg=0.1, loss=4.005019085958051,validation_accuracy=36.4\n",
      "epoch 0/100, loss: 3.927838408374345\n",
      "lr=1e-06, reg=0.01, loss=3.7513694791307035,validation_accuracy=37.1\n",
      "epoch 0/100, loss: 3.7044298260771895\n",
      "lr=1e-06, reg=0.001, loss=3.620550568712634,validation_accuracy=36.8\n",
      "epoch 0/100, loss: 3.7096006124206564\n",
      "lr=1e-06, reg=0.0001, loss=3.9038862977687163,validation_accuracy=38.0\n"
     ]
    }
   ],
   "source": [
    "d,C=X_train.shape[1],10\n",
    "W=.00001*np.random.rand(d,C)\n",
    "def predict(X,W):\n",
    "    Z=X.dot(W) #shape of (N,C)\n",
    "    return np.argmax(Z,axis=1)\n",
    "\n",
    "def evaluate(X,y,W):\n",
    "    y_pred=predict(X,W)\n",
    "    acc=100*np.sum(np.equal(y_pred,y))/y.shape[0]\n",
    "    return acc\n",
    "acc=evaluate(X_test,y_test,W)\n",
    "\n",
    "\n",
    "lrs=[1e-9,1e-8,1e-7,1e-6]\n",
    "regs=[0.1,0.01,0.001,0.0001]\n",
    "best_W=0\n",
    "best_acc=0\n",
    "\n",
    "for lr in lrs:\n",
    "    for reg in regs:\n",
    "        W,loss_history=multi_class_SVM(X_train,y_train,W,reg,lr,epoches=100,print_every=1e20)\n",
    "        acc_val=evaluate(X_val,y_val,W)\n",
    "        print('lr={}, reg={}, loss={},validation_accuracy={}'.format(lr,reg,loss_history[-1],acc_val))\n",
    "        if acc_val>=best_acc:\n",
    "            best_acc=acc_val\n",
    "            best_W=W\n",
    "            \n",
    "    \n",
    "        "
   ]
  },
  {
   "cell_type": "code",
   "execution_count": 53,
   "metadata": {},
   "outputs": [
    {
     "name": "stdout",
     "output_type": "stream",
     "text": [
      "39.0\n"
     ]
    }
   ],
   "source": [
    "print(best_acc)"
   ]
  },
  {
   "cell_type": "code",
   "execution_count": null,
   "metadata": {},
   "outputs": [],
   "source": []
  }
 ],
 "metadata": {
  "kernelspec": {
   "display_name": "Python 3",
   "language": "python",
   "name": "python3"
  },
  "language_info": {
   "codemirror_mode": {
    "name": "ipython",
    "version": 3
   },
   "file_extension": ".py",
   "mimetype": "text/x-python",
   "name": "python",
   "nbconvert_exporter": "python",
   "pygments_lexer": "ipython3",
   "version": "3.6.8"
  }
 },
 "nbformat": 4,
 "nbformat_minor": 2
}
