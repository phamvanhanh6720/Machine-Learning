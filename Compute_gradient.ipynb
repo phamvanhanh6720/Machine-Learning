{
 "cells": [
  {
   "cell_type": "code",
   "execution_count": 10,
   "metadata": {
    "ExecuteTime": {
     "end_time": "2019-10-27T04:23:30.364591Z",
     "start_time": "2019-10-27T04:23:30.325587Z"
    }
   },
   "outputs": [
    {
     "name": "stdout",
     "output_type": "stream",
     "text": [
      "Difference between tow methos should be small: 2.743679952061079e-08\n",
      "Difference between tow methos should be small: 2.9451011016554614e-09\n",
      "Difference between tow methos should be small: 2.684078856665322e-10\n",
      "Difference between tow methos should be small: 3.4843903265050434e-10\n"
     ]
    }
   ],
   "source": [
    "import numpy as np\n",
    "\n",
    "def check_grad(fn, gr, X):\n",
    "    X_flat = X.reshape(-1)\n",
    "    shape_X = X.shape\n",
    "    num_grad = np.zeros_like(X)\n",
    "    grad_flat = np.zeros_like(X_flat)\n",
    "    eps = 1e-6\n",
    "    numElems = X_flat.shape[0]\n",
    "    for i in range(numElems):\n",
    "        Xp_flat = X_flat.copy()\n",
    "        Xn_flat = X_flat.copy()\n",
    "        Xp_flat[i] += eps\n",
    "        Xn_flat[i] -= eps\n",
    "        Xp = Xp_flat.reshape(shape_X)\n",
    "        Xn = Xn_flat.reshape(shape_X)\n",
    "        grad_flat[i] = (fn(Xp) - fn(Xn)) / (2 * eps)\n",
    "        num_grad = grad_flat.reshape(shape_X)\n",
    "    diff = np.linalg.norm(num_grad - gr(X))\n",
    "    print(\"Difference between tow methos should be small:\", diff)\n",
    "\n",
    "\n",
    "#check if grad(trace(A*X))==A^T\n",
    "\n",
    "m, n = 10, 20\n",
    "A = np.random.rand(m, n)\n",
    "X = np.random.rand(n, m)\n",
    "\n",
    "\n",
    "def fn1(X):\n",
    "    return np.trace(A.dot(X))\n",
    "\n",
    "\n",
    "def gr1(X):\n",
    "    return (A.T)\n",
    "\n",
    "\n",
    "check_grad(fn1, gr1, X)\n",
    "\n",
    "A = np.random.rand(m, m)\n",
    "x = np.random.rand(m, 1)\n",
    "\n",
    "\n",
    "def fn2(x):\n",
    "    return x.T.dot(A).dot(x)\n",
    "\n",
    "def gr2(x):\n",
    "    return (A + A.T).dot(x)\n",
    "\n",
    "check_grad(fn2, gr2, x)\n",
    "\n",
    "a = np.random.rand(m, 1)\n",
    "x = np.random.rand(m, 1)\n",
    "\n",
    "def fn3(x):\n",
    "    return a.T.dot(x)\n",
    "\n",
    "\n",
    "def gr3(x):\n",
    "    return a\n",
    "\n",
    "\n",
    "check_grad(fn3, gr3, x)\n",
    "\n",
    "x = np.random.rand(m, 1)\n",
    "\n",
    "\n",
    "def fn4(x):\n",
    "    return x.T.dot(x)\n",
    "\n",
    "\n",
    "def gr4(x):\n",
    "    return 2 * x\n",
    "\n",
    "\n",
    "check_grad(fn4, gr4, x)"
   ]
  },
  {
   "cell_type": "code",
   "execution_count": null,
   "metadata": {},
   "outputs": [],
   "source": []
  }
 ],
 "metadata": {
  "kernelspec": {
   "display_name": "Python 3",
   "language": "python",
   "name": "python3"
  },
  "language_info": {
   "codemirror_mode": {
    "name": "ipython",
    "version": 3
   },
   "file_extension": ".py",
   "mimetype": "text/x-python",
   "name": "python",
   "nbconvert_exporter": "python",
   "pygments_lexer": "ipython3",
   "version": "3.7.3"
  },
  "varInspector": {
   "cols": {
    "lenName": 16,
    "lenType": 16,
    "lenVar": 40
   },
   "kernels_config": {
    "python": {
     "delete_cmd_postfix": "",
     "delete_cmd_prefix": "del ",
     "library": "var_list.py",
     "varRefreshCmd": "print(var_dic_list())"
    },
    "r": {
     "delete_cmd_postfix": ") ",
     "delete_cmd_prefix": "rm(",
     "library": "var_list.r",
     "varRefreshCmd": "cat(var_dic_list()) "
    }
   },
   "types_to_exclude": [
    "module",
    "function",
    "builtin_function_or_method",
    "instance",
    "_Feature"
   ],
   "window_display": false
  }
 },
 "nbformat": 4,
 "nbformat_minor": 2
}
